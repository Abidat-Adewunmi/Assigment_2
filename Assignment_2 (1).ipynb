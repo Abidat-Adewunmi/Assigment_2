{
 "cells": [
  {
   "cell_type": "markdown",
   "id": "28c12f4a-512d-4a18-8640-45dd48ae8b3c",
   "metadata": {},
   "source": [
    "# Assignment 2 (Week 2)\n",
    "\n",
    ">**Note**: Late submissions are ***`penalized`***.\n",
    "\n",
    "## Name: Abidat Akin-Adedotun"
   ]
  },
  {
   "cell_type": "code",
   "execution_count": 1,
   "id": "5aba3d86-630f-4a40-bbf6-6e3cde1e44b9",
   "metadata": {},
   "outputs": [
    {
     "name": "stdout",
     "output_type": "stream",
     "text": [
      "Successful\n"
     ]
    }
   ],
   "source": [
    "#import libraries \n",
    "\n",
    "import pandas as pd\n",
    "import sqlite3\n",
    "conn = sqlite3.connect(\"week_2.db\")\n",
    "cursor = conn.cursor()\n",
    "print(\"Successful\")"
   ]
  },
  {
   "cell_type": "code",
   "execution_count": 2,
   "id": "f1cf0962",
   "metadata": {},
   "outputs": [],
   "source": [
    "%load_ext sql"
   ]
  },
  {
   "cell_type": "code",
   "execution_count": 3,
   "id": "a54654ab",
   "metadata": {},
   "outputs": [
    {
     "data": {
      "text/plain": [
       "[('customers',),\n",
       " ('sqlite_sequence',),\n",
       " ('orders',),\n",
       " ('employee',),\n",
       " ('department',),\n",
       " ('students',),\n",
       " ('sqlite_autoindex_students_1',),\n",
       " ('products',)]"
      ]
     },
     "execution_count": 3,
     "metadata": {},
     "output_type": "execute_result"
    }
   ],
   "source": [
    "#View tables in database\n",
    "sql_query = \"\"\"\n",
    "        SELECT name FROM sqlite_master;\n",
    "\"\"\"\n",
    "\n",
    "# Execute\n",
    "result = cursor.execute(sql_query)\n",
    "\n",
    "# Display result\n",
    "result.fetchall()"
   ]
  },
  {
   "cell_type": "code",
   "execution_count": 4,
   "id": "de1935f3",
   "metadata": {},
   "outputs": [],
   "source": [
    "%sql sqlite:///week_2.db"
   ]
  },
  {
   "cell_type": "code",
   "execution_count": 5,
   "id": "996f3bdd",
   "metadata": {},
   "outputs": [
    {
     "name": "stdout",
     "output_type": "stream",
     "text": [
      " * sqlite:///week_2.db\n",
      "Done.\n"
     ]
    },
    {
     "data": {
      "text/html": [
       "<table>\n",
       "    <tr>\n",
       "        <th>name</th>\n",
       "    </tr>\n",
       "    <tr>\n",
       "        <td>customers</td>\n",
       "    </tr>\n",
       "    <tr>\n",
       "        <td>sqlite_sequence</td>\n",
       "    </tr>\n",
       "    <tr>\n",
       "        <td>orders</td>\n",
       "    </tr>\n",
       "    <tr>\n",
       "        <td>employee</td>\n",
       "    </tr>\n",
       "    <tr>\n",
       "        <td>department</td>\n",
       "    </tr>\n",
       "    <tr>\n",
       "        <td>students</td>\n",
       "    </tr>\n",
       "    <tr>\n",
       "        <td>sqlite_autoindex_students_1</td>\n",
       "    </tr>\n",
       "    <tr>\n",
       "        <td>products</td>\n",
       "    </tr>\n",
       "</table>"
      ],
      "text/plain": [
       "[('customers',),\n",
       " ('sqlite_sequence',),\n",
       " ('orders',),\n",
       " ('employee',),\n",
       " ('department',),\n",
       " ('students',),\n",
       " ('sqlite_autoindex_students_1',),\n",
       " ('products',)]"
      ]
     },
     "execution_count": 5,
     "metadata": {},
     "output_type": "execute_result"
    }
   ],
   "source": [
    "#View tables in database\n",
    "\n",
    "%%sql\n",
    "\n",
    "SELECT name FROM sqlite_master;"
   ]
  },
  {
   "cell_type": "markdown",
   "id": "2e83bc59-806f-4e10-8bdf-555ff25f28eb",
   "metadata": {},
   "source": [
    "## Qs 1: \n",
    "\n",
    "a. Given the table, `customers` and `orders` shown below, use a **subquery** to find the **customers** that did ***NOT*** place any orders. Display only the customer name(s).\n",
    "\n",
    "**`customers`**\n",
    "\n",
    "![image.png](https://i.postimg.cc/sx2WK6v3/image.png)\n",
    "\n",
    "\n",
    "**`orders`**\n",
    "\n",
    "![image.png](https://i.postimg.cc/T2H5fcKW/image.png)\n",
    "\n",
    "b. Given the `products` table shown below:\n",
    "\n",
    "[![image.png](https://i.postimg.cc/W18dpLXC/image.png)](https://postimg.cc/DSWv5DVP)\n",
    "\n",
    "write a query that returns the price of each product at every store. Your result should look like this:\n",
    "\n",
    "[![image.png](https://i.postimg.cc/s235K4Nd/image.png)](https://postimg.cc/FYnfH3vD)\n",
    "\n",
    "**Hint:** Use `CASE` statement.\n",
    "\n",
    "### NOTE: You must use a single query."
   ]
  },
  {
   "cell_type": "code",
   "execution_count": 84,
   "id": "4ab69fa3-7d49-40d6-9b03-5b8be0aea03d",
   "metadata": {},
   "outputs": [
    {
     "name": "stdout",
     "output_type": "stream",
     "text": [
      " * sqlite:///week_2.db\n",
      "(sqlite3.OperationalError) table NEW already exists\n",
      "[SQL: CREATE TEMP TABLE NEW AS SELECT a.id, a.name, b.order_id\n",
      "    FROM customers a\n",
      "JOIN orders b\n",
      "ON a.id = b.id]\n",
      "(Background on this error at: https://sqlalche.me/e/14/e3q8)\n"
     ]
    }
   ],
   "source": [
    "#Create Temporary table\n",
    "\n",
    "%%sql\n",
    "\n",
    "CREATE TEMP TABLE NEW AS SELECT a.id, a.name, b.order_id\n",
    "    FROM customers a\n",
    "JOIN orders b\n",
    "ON a.id = b.id "
   ]
  },
  {
   "cell_type": "code",
   "execution_count": 85,
   "id": "24013beb",
   "metadata": {},
   "outputs": [
    {
     "name": "stdout",
     "output_type": "stream",
     "text": [
      " * sqlite:///week_2.db\n",
      "Done.\n"
     ]
    },
    {
     "data": {
      "text/html": [
       "<table>\n",
       "    <tr>\n",
       "        <th>id</th>\n",
       "        <th>name</th>\n",
       "        <th>order_id</th>\n",
       "    </tr>\n",
       "    <tr>\n",
       "        <td>1</td>\n",
       "        <td>Mike</td>\n",
       "        <td>5</td>\n",
       "    </tr>\n",
       "    <tr>\n",
       "        <td>2</td>\n",
       "        <td>Afam</td>\n",
       "        <td>None</td>\n",
       "    </tr>\n",
       "    <tr>\n",
       "        <td>3</td>\n",
       "        <td>Deborah</td>\n",
       "        <td>None</td>\n",
       "    </tr>\n",
       "    <tr>\n",
       "        <td>4</td>\n",
       "        <td>Yusuf</td>\n",
       "        <td>3</td>\n",
       "    </tr>\n",
       "</table>"
      ],
      "text/plain": [
       "[(1, 'Mike', 5), (2, 'Afam', None), (3, 'Deborah', None), (4, 'Yusuf', 3)]"
      ]
     },
     "execution_count": 85,
     "metadata": {},
     "output_type": "execute_result"
    }
   ],
   "source": [
    "#Merge tables\n",
    "\n",
    "%%sql\n",
    "\n",
    "SELECT * FROM NEW;"
   ]
  },
  {
   "cell_type": "code",
   "execution_count": 117,
   "id": "78031d12",
   "metadata": {},
   "outputs": [
    {
     "name": "stdout",
     "output_type": "stream",
     "text": [
      " * sqlite:///week_2.db\n",
      "Done.\n"
     ]
    },
    {
     "data": {
      "text/html": [
       "<table>\n",
       "    <tr>\n",
       "        <th>name</th>\n",
       "    </tr>\n",
       "</table>"
      ],
      "text/plain": [
       "[]"
      ]
     },
     "execution_count": 117,
     "metadata": {},
     "output_type": "execute_result"
    }
   ],
   "source": [
    "#a - jupyter is not showing \"none\"\n",
    "%%sql\n",
    "\n",
    "SELECT name\n",
    "    from NEW\n",
    "where order_id ='None'"
   ]
  },
  {
   "cell_type": "code",
   "execution_count": 45,
   "id": "75db2bb8-6154-4fab-8153-3ab8141a43a1",
   "metadata": {},
   "outputs": [
    {
     "name": "stdout",
     "output_type": "stream",
     "text": [
      " * sqlite:///week_2.db\n",
      "Done.\n"
     ]
    },
    {
     "data": {
      "text/html": [
       "<table>\n",
       "    <tr>\n",
       "        <th>id</th>\n",
       "        <th>store a</th>\n",
       "        <th>store b</th>\n",
       "        <th>store c</th>\n",
       "    </tr>\n",
       "    <tr>\n",
       "        <td>0</td>\n",
       "        <td>10</td>\n",
       "        <td>11</td>\n",
       "        <td>12</td>\n",
       "    </tr>\n",
       "    <tr>\n",
       "        <td>1</td>\n",
       "        <td>33</td>\n",
       "        <td>35</td>\n",
       "        <td>34</td>\n",
       "    </tr>\n",
       "</table>"
      ],
      "text/plain": [
       "[(0, 10, 11, 12), (1, 33, 35, 34)]"
      ]
     },
     "execution_count": 45,
     "metadata": {},
     "output_type": "execute_result"
    }
   ],
   "source": [
    "#b \n",
    "\n",
    "%%sql\n",
    "\n",
    "    SELECT \n",
    "        id,\n",
    "        SUM(CASE WHEN store = \"store a\" THEN price ELSE 0 END) AS \"store a\",\n",
    "        SUM(CASE WHEN store = \"store b\" THEN price ELSE 0 END) AS \"store b\",\n",
    "        SUM(CASE WHEN store = \"store c\" THEN price ELSE 0 END) AS \"store c\"\n",
    "    FROM products  \n",
    "    GROUP BY id;"
   ]
  },
  {
   "cell_type": "markdown",
   "id": "3aa4543f-ee4e-4288-bee3-6a7ad529c88d",
   "metadata": {
    "tags": []
   },
   "source": [
    "## Qs 2: \n",
    "\n",
    "Given the tables `employee` and `department` shown below:\n",
    "\n",
    "![image.png](https://i.postimg.cc/bw0J574p/image.png)\n",
    "\n",
    "a. Write a query that generates the table shown below:\n",
    "\n",
    "![image](https://i.postimg.cc/hjc3rdTK/image.pnghttps://i.postimg.cc/hjc3rdTK/image.png)\n",
    "\n",
    "b. Write a query that determines the **highest earner** in **each department**.\n",
    "\n",
    "c. Write a query that shows all the employees in each department **except** the **lowest earner**. i.e generate the table below\n",
    "\n",
    "![image.png](https://i.postimg.cc/MHcmw7Q0/image.png)"
   ]
  },
  {
   "cell_type": "code",
   "execution_count": 125,
   "id": "53a65238-f4e5-4ff2-82e4-77b659304025",
   "metadata": {},
   "outputs": [
    {
     "name": "stdout",
     "output_type": "stream",
     "text": [
      " * sqlite:///week_2.db\n",
      "Done.\n"
     ]
    },
    {
     "data": {
      "text/plain": [
       "[]"
      ]
     },
     "execution_count": 125,
     "metadata": {},
     "output_type": "execute_result"
    }
   ],
   "source": [
    "#Create temporary table \n",
    "\n",
    "%%sql\n",
    "\n",
    "CREATE TEMP TABLE employees AS SELECT a.name, a.salary, a.dept_id, b.dept_name\n",
    "    FROM employee a\n",
    "FULL JOIN department b\n",
    "ON a.dept_id= b.id;"
   ]
  },
  {
   "cell_type": "code",
   "execution_count": 126,
   "id": "eab1bd72-e7f8-4d56-8c30-c889ad694be5",
   "metadata": {},
   "outputs": [
    {
     "name": "stdout",
     "output_type": "stream",
     "text": [
      " * sqlite:///week_2.db\n",
      "Done.\n"
     ]
    },
    {
     "data": {
      "text/html": [
       "<table>\n",
       "    <tr>\n",
       "        <th>name</th>\n",
       "        <th>salary</th>\n",
       "        <th>dept_id</th>\n",
       "        <th>dept_name</th>\n",
       "    </tr>\n",
       "    <tr>\n",
       "        <td>Steve</td>\n",
       "        <td>32000</td>\n",
       "        <td>1</td>\n",
       "        <td>Sales</td>\n",
       "    </tr>\n",
       "    <tr>\n",
       "        <td>Bola</td>\n",
       "        <td>31000</td>\n",
       "        <td>1</td>\n",
       "        <td>Sales</td>\n",
       "    </tr>\n",
       "    <tr>\n",
       "        <td>Felix</td>\n",
       "        <td>33000</td>\n",
       "        <td>2</td>\n",
       "        <td>IT</td>\n",
       "    </tr>\n",
       "    <tr>\n",
       "        <td>Babalola</td>\n",
       "        <td>30200</td>\n",
       "        <td>1</td>\n",
       "        <td>Sales</td>\n",
       "    </tr>\n",
       "    <tr>\n",
       "        <td>Okafor</td>\n",
       "        <td>25000</td>\n",
       "        <td>2</td>\n",
       "        <td>IT</td>\n",
       "    </tr>\n",
       "    <tr>\n",
       "        <td>Adigun</td>\n",
       "        <td>30000</td>\n",
       "        <td>1</td>\n",
       "        <td>Sales</td>\n",
       "    </tr>\n",
       "    <tr>\n",
       "        <td>Gafar</td>\n",
       "        <td>41000</td>\n",
       "        <td>2</td>\n",
       "        <td>IT</td>\n",
       "    </tr>\n",
       "    <tr>\n",
       "        <td>Amanda</td>\n",
       "        <td>53000</td>\n",
       "        <td>2</td>\n",
       "        <td>IT</td>\n",
       "    </tr>\n",
       "</table>"
      ],
      "text/plain": [
       "[('Steve', 32000, 1, 'Sales'),\n",
       " ('Bola', 31000, 1, 'Sales'),\n",
       " ('Felix', 33000, 2, 'IT'),\n",
       " ('Babalola', 30200, 1, 'Sales'),\n",
       " ('Okafor', 25000, 2, 'IT'),\n",
       " ('Adigun', 30000, 1, 'Sales'),\n",
       " ('Gafar', 41000, 2, 'IT'),\n",
       " ('Amanda', 53000, 2, 'IT')]"
      ]
     },
     "execution_count": 126,
     "metadata": {},
     "output_type": "execute_result"
    }
   ],
   "source": [
    "#a - view table\n",
    "%%sql\n",
    "\n",
    "select * from employees;"
   ]
  },
  {
   "cell_type": "code",
   "execution_count": 130,
   "id": "e2eb846c",
   "metadata": {},
   "outputs": [
    {
     "name": "stdout",
     "output_type": "stream",
     "text": [
      " * sqlite:///week_2.db\n",
      "Done.\n"
     ]
    },
    {
     "data": {
      "text/html": [
       "<table>\n",
       "    <tr>\n",
       "        <th>name</th>\n",
       "        <th>salary</th>\n",
       "        <th>dept_id</th>\n",
       "        <th>dept_name</th>\n",
       "        <th>max(salary)</th>\n",
       "    </tr>\n",
       "    <tr>\n",
       "        <td>Amanda</td>\n",
       "        <td>53000</td>\n",
       "        <td>2</td>\n",
       "        <td>IT</td>\n",
       "        <td>53000</td>\n",
       "    </tr>\n",
       "    <tr>\n",
       "        <td>Steve</td>\n",
       "        <td>32000</td>\n",
       "        <td>1</td>\n",
       "        <td>Sales</td>\n",
       "        <td>32000</td>\n",
       "    </tr>\n",
       "</table>"
      ],
      "text/plain": [
       "[('Amanda', 53000, 2, 'IT', 53000), ('Steve', 32000, 1, 'Sales', 32000)]"
      ]
     },
     "execution_count": 130,
     "metadata": {},
     "output_type": "execute_result"
    }
   ],
   "source": [
    "#b \n",
    "%%sql\n",
    "\n",
    "select *, max(salary) from employees \n",
    "group by dept_name;"
   ]
  },
  {
   "cell_type": "code",
   "execution_count": 131,
   "id": "f8061201-1f3b-467b-9cff-09cae5361756",
   "metadata": {},
   "outputs": [
    {
     "name": "stdout",
     "output_type": "stream",
     "text": [
      " * sqlite:///week_2.db\n",
      "Done.\n"
     ]
    },
    {
     "data": {
      "text/html": [
       "<table>\n",
       "    <tr>\n",
       "        <th>name</th>\n",
       "        <th>salary</th>\n",
       "        <th>dept_id</th>\n",
       "        <th>dept_name</th>\n",
       "        <th>min(salary)</th>\n",
       "    </tr>\n",
       "    <tr>\n",
       "        <td>Okafor</td>\n",
       "        <td>25000</td>\n",
       "        <td>2</td>\n",
       "        <td>IT</td>\n",
       "        <td>25000</td>\n",
       "    </tr>\n",
       "    <tr>\n",
       "        <td>Adigun</td>\n",
       "        <td>30000</td>\n",
       "        <td>1</td>\n",
       "        <td>Sales</td>\n",
       "        <td>30000</td>\n",
       "    </tr>\n",
       "</table>"
      ],
      "text/plain": [
       "[('Okafor', 25000, 2, 'IT', 25000), ('Adigun', 30000, 1, 'Sales', 30000)]"
      ]
     },
     "execution_count": 131,
     "metadata": {},
     "output_type": "execute_result"
    }
   ],
   "source": [
    "%%sql\n",
    "\n",
    "select *, min(salary) from employees \n",
    "group by dept_name;"
   ]
  },
  {
   "cell_type": "code",
   "execution_count": 138,
   "id": "1266caf9",
   "metadata": {},
   "outputs": [
    {
     "name": "stdout",
     "output_type": "stream",
     "text": [
      " * sqlite:///week_2.db\n",
      "Done.\n"
     ]
    },
    {
     "data": {
      "text/html": [
       "<table>\n",
       "    <tr>\n",
       "        <th>min(salary)</th>\n",
       "    </tr>\n",
       "    <tr>\n",
       "        <td>25000</td>\n",
       "    </tr>\n",
       "    <tr>\n",
       "        <td>30000</td>\n",
       "    </tr>\n",
       "</table>"
      ],
      "text/plain": [
       "[(25000,), (30000,)]"
      ]
     },
     "execution_count": 138,
     "metadata": {},
     "output_type": "execute_result"
    }
   ],
   "source": [
    "%%sql\n",
    "\n",
    "select min(salary) from employees \n",
    "group by dept_name;"
   ]
  },
  {
   "cell_type": "code",
   "execution_count": 139,
   "id": "6cfa71e7-ad0c-4d95-a9d1-ab880cba8220",
   "metadata": {},
   "outputs": [
    {
     "name": "stdout",
     "output_type": "stream",
     "text": [
      " * sqlite:///week_2.db\n",
      "Done.\n"
     ]
    },
    {
     "data": {
      "text/html": [
       "<table>\n",
       "    <tr>\n",
       "        <th>name</th>\n",
       "        <th>salary</th>\n",
       "        <th>dept_id</th>\n",
       "        <th>dept_name</th>\n",
       "    </tr>\n",
       "    <tr>\n",
       "        <td>Steve</td>\n",
       "        <td>32000</td>\n",
       "        <td>1</td>\n",
       "        <td>Sales</td>\n",
       "    </tr>\n",
       "    <tr>\n",
       "        <td>Bola</td>\n",
       "        <td>31000</td>\n",
       "        <td>1</td>\n",
       "        <td>Sales</td>\n",
       "    </tr>\n",
       "    <tr>\n",
       "        <td>Felix</td>\n",
       "        <td>33000</td>\n",
       "        <td>2</td>\n",
       "        <td>IT</td>\n",
       "    </tr>\n",
       "    <tr>\n",
       "        <td>Babalola</td>\n",
       "        <td>30200</td>\n",
       "        <td>1</td>\n",
       "        <td>Sales</td>\n",
       "    </tr>\n",
       "    <tr>\n",
       "        <td>Adigun</td>\n",
       "        <td>30000</td>\n",
       "        <td>1</td>\n",
       "        <td>Sales</td>\n",
       "    </tr>\n",
       "    <tr>\n",
       "        <td>Gafar</td>\n",
       "        <td>41000</td>\n",
       "        <td>2</td>\n",
       "        <td>IT</td>\n",
       "    </tr>\n",
       "    <tr>\n",
       "        <td>Amanda</td>\n",
       "        <td>53000</td>\n",
       "        <td>2</td>\n",
       "        <td>IT</td>\n",
       "    </tr>\n",
       "</table>"
      ],
      "text/plain": [
       "[('Steve', 32000, 1, 'Sales'),\n",
       " ('Bola', 31000, 1, 'Sales'),\n",
       " ('Felix', 33000, 2, 'IT'),\n",
       " ('Babalola', 30200, 1, 'Sales'),\n",
       " ('Adigun', 30000, 1, 'Sales'),\n",
       " ('Gafar', 41000, 2, 'IT'),\n",
       " ('Amanda', 53000, 2, 'IT')]"
      ]
     },
     "execution_count": 139,
     "metadata": {},
     "output_type": "execute_result"
    }
   ],
   "source": [
    "#c\n",
    "\n",
    "%%sql\n",
    "\n",
    "select * \n",
    "    from employees \n",
    "where salary > (select min(salary) from employees \n",
    "                group by dept_name);"
   ]
  },
  {
   "cell_type": "markdown",
   "id": "46c59968-6566-4959-93ed-5806471f39ae",
   "metadata": {},
   "source": [
    "### Qs 3: Given the students table:\n",
    "\n",
    "a. Write a query that creates a new column `percentage_score`.  The `percentage_score` is the mean of all the subjects for each student. Round the `percentage_score` to 2 decimal points and sort in descending order.\n",
    "\n",
    "b. Write a query that selects **ONLY** the students that scored more than the mean of the `percentage_score`."
   ]
  },
  {
   "cell_type": "code",
   "execution_count": 104,
   "id": "78adfae5",
   "metadata": {},
   "outputs": [
    {
     "name": "stdout",
     "output_type": "stream",
     "text": [
      " * sqlite:///week_2.db\n",
      "Done.\n"
     ]
    },
    {
     "data": {
      "text/plain": [
       "[]"
      ]
     },
     "execution_count": 104,
     "metadata": {},
     "output_type": "execute_result"
    }
   ],
   "source": [
    "#Create temp table\n",
    "%%sql\n",
    "\n",
    "CREATE TEMP TABLE students_new AS select *, round((maths+english+physics)/3, 2) as percentage_score\n",
    "from students\n",
    "order by percentage_score desc;"
   ]
  },
  {
   "cell_type": "code",
   "execution_count": 105,
   "id": "c7939641",
   "metadata": {},
   "outputs": [
    {
     "name": "stdout",
     "output_type": "stream",
     "text": [
      " * sqlite:///week_2.db\n",
      "Done.\n"
     ]
    },
    {
     "data": {
      "text/html": [
       "<table>\n",
       "    <tr>\n",
       "        <th>matric_no</th>\n",
       "        <th>name</th>\n",
       "        <th>gender</th>\n",
       "        <th>maths</th>\n",
       "        <th>english</th>\n",
       "        <th>physics</th>\n",
       "        <th>percentage_score</th>\n",
       "    </tr>\n",
       "    <tr>\n",
       "        <td>ux-012-013</td>\n",
       "        <td>Emeka</td>\n",
       "        <td>M</td>\n",
       "        <td>95</td>\n",
       "        <td>84</td>\n",
       "        <td>94</td>\n",
       "        <td>91.0</td>\n",
       "    </tr>\n",
       "    <tr>\n",
       "        <td>ux-012-020</td>\n",
       "        <td>Ahmed</td>\n",
       "        <td>M</td>\n",
       "        <td>87</td>\n",
       "        <td>94</td>\n",
       "        <td>85</td>\n",
       "        <td>88.0</td>\n",
       "    </tr>\n",
       "    <tr>\n",
       "        <td>ux-012-016</td>\n",
       "        <td>Esther</td>\n",
       "        <td>F</td>\n",
       "        <td>93</td>\n",
       "        <td>77</td>\n",
       "        <td>91</td>\n",
       "        <td>87.0</td>\n",
       "    </tr>\n",
       "    <tr>\n",
       "        <td>ux-012-014</td>\n",
       "        <td>Agnes</td>\n",
       "        <td>F</td>\n",
       "        <td>80</td>\n",
       "        <td>69</td>\n",
       "        <td>88</td>\n",
       "        <td>79.0</td>\n",
       "    </tr>\n",
       "    <tr>\n",
       "        <td>ux-012-018</td>\n",
       "        <td>Ogechi</td>\n",
       "        <td>F</td>\n",
       "        <td>80</td>\n",
       "        <td>69</td>\n",
       "        <td>78</td>\n",
       "        <td>75.0</td>\n",
       "    </tr>\n",
       "    <tr>\n",
       "        <td>ux-012-023</td>\n",
       "        <td>Dave</td>\n",
       "        <td>M</td>\n",
       "        <td>77</td>\n",
       "        <td>69</td>\n",
       "        <td>70</td>\n",
       "        <td>72.0</td>\n",
       "    </tr>\n",
       "    <tr>\n",
       "        <td>ux-012-015</td>\n",
       "        <td>Alimat</td>\n",
       "        <td>F</td>\n",
       "        <td>69</td>\n",
       "        <td>69</td>\n",
       "        <td>77</td>\n",
       "        <td>71.0</td>\n",
       "    </tr>\n",
       "    <tr>\n",
       "        <td>ux-012-019</td>\n",
       "        <td>Steve</td>\n",
       "        <td>M</td>\n",
       "        <td>61</td>\n",
       "        <td>69</td>\n",
       "        <td>72</td>\n",
       "        <td>67.0</td>\n",
       "    </tr>\n",
       "    <tr>\n",
       "        <td>ux-012-024</td>\n",
       "        <td>Seyi</td>\n",
       "        <td>M</td>\n",
       "        <td>54</td>\n",
       "        <td>83</td>\n",
       "        <td>63</td>\n",
       "        <td>66.0</td>\n",
       "    </tr>\n",
       "    <tr>\n",
       "        <td>ux-012-021</td>\n",
       "        <td>Samantha</td>\n",
       "        <td>F</td>\n",
       "        <td>52</td>\n",
       "        <td>69</td>\n",
       "        <td>48</td>\n",
       "        <td>56.0</td>\n",
       "    </tr>\n",
       "    <tr>\n",
       "        <td>ux-012-022</td>\n",
       "        <td>Philip</td>\n",
       "        <td>M</td>\n",
       "        <td>51</td>\n",
       "        <td>39</td>\n",
       "        <td>45</td>\n",
       "        <td>45.0</td>\n",
       "    </tr>\n",
       "    <tr>\n",
       "        <td>ux-012-017</td>\n",
       "        <td>Fred</td>\n",
       "        <td>M</td>\n",
       "        <td>28</td>\n",
       "        <td>57</td>\n",
       "        <td>39</td>\n",
       "        <td>41.0</td>\n",
       "    </tr>\n",
       "</table>"
      ],
      "text/plain": [
       "[('ux-012-013', 'Emeka', 'M', 95, 84, 94, 91.0),\n",
       " ('ux-012-020', 'Ahmed', 'M', 87, 94, 85, 88.0),\n",
       " ('ux-012-016', 'Esther', 'F', 93, 77, 91, 87.0),\n",
       " ('ux-012-014', 'Agnes', 'F', 80, 69, 88, 79.0),\n",
       " ('ux-012-018', 'Ogechi', 'F', 80, 69, 78, 75.0),\n",
       " ('ux-012-023', 'Dave', 'M', 77, 69, 70, 72.0),\n",
       " ('ux-012-015', 'Alimat', 'F', 69, 69, 77, 71.0),\n",
       " ('ux-012-019', 'Steve', 'M', 61, 69, 72, 67.0),\n",
       " ('ux-012-024', 'Seyi', 'M', 54, 83, 63, 66.0),\n",
       " ('ux-012-021', 'Samantha', 'F', 52, 69, 48, 56.0),\n",
       " ('ux-012-022', 'Philip', 'M', 51, 39, 45, 45.0),\n",
       " ('ux-012-017', 'Fred', 'M', 28, 57, 39, 41.0)]"
      ]
     },
     "execution_count": 105,
     "metadata": {},
     "output_type": "execute_result"
    }
   ],
   "source": [
    "#a - view answer\n",
    "\n",
    "%%sql\n",
    "\n",
    "select * from students_new;"
   ]
  },
  {
   "cell_type": "code",
   "execution_count": 107,
   "id": "0d4dd56e-948d-4ff5-a068-e259c8d64c8a",
   "metadata": {},
   "outputs": [
    {
     "name": "stdout",
     "output_type": "stream",
     "text": [
      " * sqlite:///week_2.db\n",
      "Done.\n"
     ]
    },
    {
     "data": {
      "text/html": [
       "<table>\n",
       "    <tr>\n",
       "        <th>avg(percentage_score)</th>\n",
       "    </tr>\n",
       "    <tr>\n",
       "        <td>69.83333333333333</td>\n",
       "    </tr>\n",
       "</table>"
      ],
      "text/plain": [
       "[(69.83333333333333,)]"
      ]
     },
     "execution_count": 107,
     "metadata": {},
     "output_type": "execute_result"
    }
   ],
   "source": [
    "#get average of percentage_score\n",
    "%%sql \n",
    "\n",
    "select avg(percentage_score)\n",
    "from students_new;"
   ]
  },
  {
   "cell_type": "code",
   "execution_count": 109,
   "id": "7d991ca7-cd81-42b4-922f-2d3a98fc514d",
   "metadata": {},
   "outputs": [
    {
     "name": "stdout",
     "output_type": "stream",
     "text": [
      " * sqlite:///week_2.db\n",
      "Done.\n"
     ]
    },
    {
     "data": {
      "text/html": [
       "<table>\n",
       "    <tr>\n",
       "        <th>name</th>\n",
       "    </tr>\n",
       "    <tr>\n",
       "        <td>Emeka</td>\n",
       "    </tr>\n",
       "    <tr>\n",
       "        <td>Ahmed</td>\n",
       "    </tr>\n",
       "    <tr>\n",
       "        <td>Esther</td>\n",
       "    </tr>\n",
       "    <tr>\n",
       "        <td>Agnes</td>\n",
       "    </tr>\n",
       "    <tr>\n",
       "        <td>Ogechi</td>\n",
       "    </tr>\n",
       "    <tr>\n",
       "        <td>Dave</td>\n",
       "    </tr>\n",
       "    <tr>\n",
       "        <td>Alimat</td>\n",
       "    </tr>\n",
       "</table>"
      ],
      "text/plain": [
       "[('Emeka',),\n",
       " ('Ahmed',),\n",
       " ('Esther',),\n",
       " ('Agnes',),\n",
       " ('Ogechi',),\n",
       " ('Dave',),\n",
       " ('Alimat',)]"
      ]
     },
     "execution_count": 109,
     "metadata": {},
     "output_type": "execute_result"
    }
   ],
   "source": [
    "#b \n",
    "%%sql\n",
    "\n",
    "select name\n",
    "    from students_new\n",
    "where percentage_score > (select avg(percentage_score)\n",
    "                            from students_new);\n"
   ]
  },
  {
   "cell_type": "code",
   "execution_count": null,
   "id": "e7633399-c0c2-4e74-af78-155dab778b99",
   "metadata": {},
   "outputs": [],
   "source": []
  }
 ],
 "metadata": {
  "kernelspec": {
   "display_name": "Python 3 (ipykernel)",
   "language": "python",
   "name": "python3"
  },
  "language_info": {
   "codemirror_mode": {
    "name": "ipython",
    "version": 3
   },
   "file_extension": ".py",
   "mimetype": "text/x-python",
   "name": "python",
   "nbconvert_exporter": "python",
   "pygments_lexer": "ipython3",
   "version": "3.9.13"
  }
 },
 "nbformat": 4,
 "nbformat_minor": 5
}
